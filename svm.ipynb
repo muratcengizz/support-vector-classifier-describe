{
 "cells": [
  {
   "cell_type": "markdown",
   "id": "c261cf85-6921-433d-b321-5f2b20060242",
   "metadata": {},
   "source": [
    "# Support Vector Classifier - SVC (Destek Vektör Sınıflandırıcısı)"
   ]
  },
  {
   "cell_type": "markdown",
   "id": "17505c4a-9e9e-4ab4-b366-85a804a14830",
   "metadata": {},
   "source": [
    "![](svm.png)"
   ]
  },
  {
   "cell_type": "markdown",
   "id": "cdcb424f-02ca-46bd-9ca0-78a738d50615",
   "metadata": {},
   "source": [
    "### Makine öğreniminde sınıflandırma problemlerini çözmek için kullanılan bir algoritmadır. Temel olarak, veri noktalarını belirli sınıflara atayan bir karar sınırı oluşturur.\n",
    "\n",
    "### SVC'nin diğer sınıflandırma algoritmalarından farkı, özellikle veriler arasındaki karmaşık ilişkileri ele alabilme yeteneğidir.\n",
    "\n",
    "### Temel İlke: SVC, bir öğrenme algoritmasıdır ve veri noktalarını farklı sınıflara ayırmak için bir karar sınırı belirler. Bu sınırlar, destek vektörleri adı verilen örnekler tarafından desteklenir. Destek vektörleri, karar sınırına en yakın veri noktalarıdır ve sınıflandırma sürecinde önemli bir rol oynarlar.\n",
    "\n",
    "![](svm_dogrusal_olmayan.png)\n",
    "\n",
    "### Kernel Fonksiyonları: SVC'nin güçlü bir yönü, verilerin doğrusal olarak ayrılmasının mümkün olmadığı durumlarda kullanılabilen  kernel fonksiyonlarıdır. Kernel fonksiyonları, verileri yüksek boyutlu özellik uzayına projekte ederek karmaşık karar sınırları oluşturmamızı sağlar. Bu sayede, verilerin doğrusal olarak ayrılmasını mümkün kılmayan problemlerle başa çıkabiliriz.\n",
    "\n",
    "### C ve Gamma Parametreleri: SVC algoritması, C ve gamma gibi iki önemli hiperparametreye sahiptir. C parametresi, karar sınırının pürüzsüzlüğünü kontrol eder. Daha küçük C değerleri, daha pürüzlü sınırlara yol açarken, daha büyük C değerleri daha düzgün sınırlar elde edilmesini sağlar. Gamma parametresi ise kernel fonksiyonunun etkisini kontrol eder. Daha büyük gamma değerleri, örneklere daha fazla odaklanırken, daha küçük gamma değerleri daha genel bir etki sağlar.\n",
    "\n",
    "### Ölçeklendirme: SVC'nin performansını iyileştirmek için verilerin ölçeklendirilmesi önemlidir. Veri özelliklerinin farklı aralıklarda olması, sınıflandırma performansını olumsuz yönde etkileyebilir. Bu nedenle, verileri ölçeklendirmek ve benzer aralıklara getirmek önemlidir.\n",
    "\n",
    "### Çok Sınıflı Sınıflandırma: SVC, iki sınıflı sınıflandırmada etkilidir, ancak çok sınıflı sınıflandırma problemlerine doğrudan uygulanamaz. Bunula birlikte, birkaç yöntem mevcuttur, örneğin 'One-vs-One' ve 'One-vs-All' yaklaşımları gibi, SVC'yi çok sınıflı sınıflandırmaya genişletebiliriz.\n",
    "\n",
    "### Veri Dengelemesi: Veri dengesizliği durumunda, yani sınıflardaki örnek sayıları arasında büyük farklar olduğunda, SVC'nin performansı etkilenebilir. Bu durumda, sınıflar arasındaki dengesizliği düzeltecek yöntemler, örneğin veri örnekleme teknikleri veya ağırlıklı sınıflandırma kullanılabilir."
   ]
  },
  {
   "cell_type": "code",
   "execution_count": 1,
   "id": "3726c40a-1f62-436a-9493-188b3357a155",
   "metadata": {},
   "outputs": [],
   "source": [
    "from sklearn.svm import SVC"
   ]
  },
  {
   "cell_type": "code",
   "execution_count": 3,
   "id": "f49cc88f-9369-4fa8-bba0-7a29a76123e9",
   "metadata": {},
   "outputs": [
    {
     "data": {
      "text/plain": [
       "{'C': 1.0,\n",
       " 'break_ties': False,\n",
       " 'cache_size': 200,\n",
       " 'class_weight': None,\n",
       " 'coef0': 0.0,\n",
       " 'decision_function_shape': 'ovr',\n",
       " 'degree': 3,\n",
       " 'gamma': 'scale',\n",
       " 'kernel': 'rbf',\n",
       " 'max_iter': -1,\n",
       " 'probability': False,\n",
       " 'random_state': None,\n",
       " 'shrinking': True,\n",
       " 'tol': 0.001,\n",
       " 'verbose': False}"
      ]
     },
     "execution_count": 3,
     "metadata": {},
     "output_type": "execute_result"
    }
   ],
   "source": [
    "model = SVC()\n",
    "model.get_params()"
   ]
  },
  {
   "cell_type": "markdown",
   "id": "2da48395-ae26-4fa0-8176-f89693d721a7",
   "metadata": {},
   "source": [
    "### C: Bu hiperparametre, SVM modelinin ceza parametresidir. C değeri ne kadar büyükse, modelin eğitim verisine ne kadar sıkı uyması gerektiği belirlenir. Daha yüksek C değerleri, yanlış sınıflandırılan örneklerin cezalandırılmasını artırır. Varsayılan değeri 1.0'dır.\n",
    "\n",
    "### kernel: SVC'de kullanılan çekirdek fonksiyonunu belirler. Öntanımlı olarak 'rbf' (radial basis function) kullanılır, ancak farklı çekirdekler de seçilebilir, örneğin 'linear', 'poly' veya 'sigmoid'.\n",
    "\n",
    "### gamma: RBF çekirdeği için kullanılan bir hiperparametredir. Gamma, karar sınırının ne kadar esnek veya kıvrıklı olacağını kontrol eder. Daha büyük gamma değerleri, eğitim verilerine odaklanarak daha karmaşık karar sınırları oluşturur. Varsayılan değeri 'scale' veya 'auto' olarak atanır, bu da 1 / (n_features * X.var()) olarak hesaplanır.\n",
    "\n",
    "### degree: 'poly' çekirdeği seçildiğinde kullanılan bir hiperparametredir. Polinom derecesini belirler. Varsayılan değeri 3'tür.\n",
    "\n",
    "### coef0: 'poly' ve 'sigmoid' çekirdeklerinde etkili olan bir hiperparametredir. Varsayılan değeri 0.0'dır. Bu değer, polinom veya sigmoid fonksiyonunun serbestlik derecesini kontrol eder.\n",
    "\n",
    "### shrinking: Bu hiperparametre, destek vektörlerinin kullanılmasını ve karar sınırının hesaplanmasını hızlandırmak için kullanılır. Varsayılan olarak True'dur.\n",
    "\n",
    "### Bu hiperparametrelerin değerleri, veri setine, problem tipine ve kullanıcı tercihlerine bağlı olarak değişebilir. SVC'nin hiperparametrelerini belirlerken, genellikle çapraz doğrulama (cross_validation) veya hiperparametre optimizasyonu yöntemleri kullanarak en iyi performansı sağlamak için deneme yanılma yapmamız önerilir."
   ]
  }
 ],
 "metadata": {
  "kernelspec": {
   "display_name": "Python 3 (ipykernel)",
   "language": "python",
   "name": "python3"
  },
  "language_info": {
   "codemirror_mode": {
    "name": "ipython",
    "version": 3
   },
   "file_extension": ".py",
   "mimetype": "text/x-python",
   "name": "python",
   "nbconvert_exporter": "python",
   "pygments_lexer": "ipython3",
   "version": "3.9.12"
  }
 },
 "nbformat": 4,
 "nbformat_minor": 5
}
